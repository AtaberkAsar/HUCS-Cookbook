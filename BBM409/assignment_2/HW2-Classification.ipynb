{
 "cells": [
  {
   "cell_type": "markdown",
   "id": "8172b8c3",
   "metadata": {},
   "source": [
    "# Logistic Regression and Support Vector Machine classifier"
   ]
  },
  {
   "cell_type": "markdown",
   "id": "74b38c57",
   "metadata": {},
   "source": [
    "### 1. Logistic Regression \n",
    "The __logistic function__ (which is more commonly called __sigmoid function__) basically maps an input to an output of values between 0 and 1. And it is defined as follows:\n",
    "$$y(z) = \\frac{1}{1+ exp(-z)}$$\n",
    "\n",
    "We can visualize it as follows:\n",
    "\n",
    "\n",
    "First define the logistic function:"
   ]
  },
  {
   "cell_type": "code",
   "execution_count": 1,
   "id": "f84b0657",
   "metadata": {},
   "outputs": [],
   "source": [
    "import numpy as np\n",
    "def sigmoid(input):\n",
    "    return 1.0 / (1 + np.exp(-input))"
   ]
  },
  {
   "cell_type": "code",
   "execution_count": 2,
   "id": "11009b0a",
   "metadata": {},
   "outputs": [
    {
     "data": {
      "image/png": "[encoded data removed]",
      "text/plain": [
       "<Figure size 432x288 with 1 Axes>"
      ]
     },
     "metadata": {
      "needs_background": "light"
     },
     "output_type": "display_data"
    }
   ],
   "source": [
    "# Input variables from -8 to 8, and the output correspondingly:\n",
    "z = np.linspace(-8, 8, 1000)\n",
    "y = sigmoid(z)\n",
    "import matplotlib.pyplot as plt\n",
    "plt.plot(z, y)\n",
    "plt.axhline(y=0, ls='dotted', color='k')\n",
    "plt.axhline(y=0.5, ls='dotted', color='k')\n",
    "plt.axhline(y=1, ls='dotted', color='k')\n",
    "plt.yticks([0.0, 0.25, 0.5, 0.75, 1.0])\n",
    "plt.xlabel('z')\n",
    "plt.ylabel('y(z)')\n",
    "plt.show()"
   ]
  },
  {
   "cell_type": "markdown",
   "id": "fbf12496",
   "metadata": {},
   "source": [
    "In the S-shaped curve, all inputs are transformed into the range from 0 to 1. For positive inputs, a greater value results in an output closer to 1; for negative inputs, a smaller value generates an output closer to 0; when the input is 0, the\n",
    "output is the midpoint 0.5."
   ]
  },
  {
   "cell_type": "markdown",
   "id": "4b5ab87f",
   "metadata": {},
   "source": [
    "Logistic regression, by default, is limited to two-class classification problems. It cannot be used for classification tasks that have more than two class labels, so-called multi-class classification. Instead, it requires modification to support multi-class classification problems.\n",
    "\n",
    "__The multinomial logistic regression__ (often just called 'multinomial regression') algorithm is an extension to the logistic regression model that involves changing the loss function to cross-entropy loss and predict probability distribution to a multinomial probability distribution to natively support multi-class classification problems."
   ]
  },
  {
   "cell_type": "markdown",
   "id": "dbfb9dad",
   "metadata": {},
   "source": [
    "### 2. Support Vector Machine\n",
    "\n",
    "Support Vector Machines (or SVM) seek a line that best separates two classes. Those data instances that are closest to the line that best separates the classes are called support vectors and influence where the line is placed. SVM has been extended to support multiple classes.Of particular importance is the use of different kernel functions via the kernel parameter.\n",
    "\n",
    "Kernels can be used that transform the input space into higher dimensions such as a Polynomial Kernel and a Radial Kernel. This is called the Kernel Trick. It is desirable to use more complex kernels as it allows lines to separate the classes that are curved or even more complex. This in turn can lead to more accurate classifiers."
   ]
  },
  {
   "cell_type": "markdown",
   "id": "16a5f68b",
   "metadata": {},
   "source": [
    "### Assignment\n",
    "\n",
    "In this assignment, you are given a dataset comprising information about dinosaurs. You will use logistic regression and support vector machine models to predict the type of dinosaur based on the provided information. In this assignment, you may utilize built-in libraries. Employ _stratified k-fold cross-validation_ (CV) with 10 folds for evaluating the classification models. Stratification ensures that each CV fold maintains a similar distribution of class examples as the entire training set. You can design various experiments by selecting some/all information provided in the dataset. Here, we expect the best result you obtained after these experiments and observations. Please explicitly mention your feature selection method in your report while presenting results. \n"
   ]
  },
  {
   "cell_type": "markdown",
   "id": "8b2c396f",
   "metadata": {},
   "source": [
    "Stratified k-fold cross-validation is a technique used to evaluate the performance of machine learning models, particularly in classification tasks, where the target class distribution may be imbalanced. In this method, the dataset is divided into 'k' equally sized folds, ensuring that each fold maintains a similar distribution of class examples as the entire dataset. This stratification process helps to reduce the bias and variance in model performance estimation by preventing a skewed distribution of classes in the train and test sets.\n",
    "\n",
    "During the cross-validation process, the model is trained on 'k-1' folds and tested on the remaining fold, iterating this process 'k' times. Each iteration uses a different fold for testing, and the average performance metric (e.g., accuracy) is calculated over all iterations.\n",
    "\n",
    "Here's a code example using the scikit-learn library:\n"
   ]
  },
  {
   "cell_type": "code",
   "execution_count": 3,
   "id": "6ea38629",
   "metadata": {},
   "outputs": [
    {
     "name": "stdout",
     "output_type": "stream",
     "text": [
      "Mean accuracy: 0.9733333333333334\n"
     ]
    }
   ],
   "source": [
    "from sklearn.model_selection import StratifiedKFold\n",
    "from sklearn.datasets import load_iris\n",
    "from sklearn.linear_model import LogisticRegression\n",
    "import numpy as np\n",
    "\n",
    "# Load the dataset\n",
    "iris = load_iris()\n",
    "X, y = iris.data, iris.target\n",
    "\n",
    "# Initialize stratified k-fold cross-validation\n",
    "skf = StratifiedKFold(n_splits=5)  # Set the number of folds to 5\n",
    "\n",
    "# Initialize the logistic regression model\n",
    "model = LogisticRegression(solver='lbfgs', max_iter=1000)\n",
    "\n",
    "# Perform stratified k-fold cross-validation\n",
    "accuracy_scores = []\n",
    "for train_index, test_index in skf.split(X, y):\n",
    "    X_train, X_test = X[train_index], X[test_index]\n",
    "    y_train, y_test = y[train_index], y[test_index]\n",
    "   \n",
    "    model.fit(X_train, y_train)\n",
    "    accuracy = model.score(X_test, y_test)\n",
    "    accuracy_scores.append(accuracy)\n",
    "\n",
    "# Calculate the mean accuracy\n",
    "mean_accuracy = np.mean(accuracy_scores)\n",
    "print(\"Mean accuracy:\", mean_accuracy)"
   ]
  },
  {
   "cell_type": "markdown",
   "id": "eb920e7a",
   "metadata": {},
   "source": [
    "In this example, we use the Iris dataset and a logistic regression model to demonstrate stratified k-fold cross-validation with 5 folds. The performance of the model is evaluated using accuracy as the performance metric, and the mean accuracy is reported."
   ]
  },
  {
   "cell_type": "markdown",
   "id": "ab1422ff",
   "metadata": {},
   "source": [
    "Stratified cross-validation is particularly useful when dealing with imbalanced datasets, where some classes have significantly fewer examples compared to others. In such cases, using standard cross-validation might lead to situations where one or more folds contain very few or even none of the underrepresented class instances. This could result in an inaccurate and biased performance estimation of the model, as the model is not adequately tested on all classes.\n",
    "\n",
    "For balanced datasets, where class distributions are roughly equal, stratified cross-validation may not provide significant benefits over standard cross-validation. However, it is still a good practice to use stratified cross-validation as a default approach, as it generally leads to more stable and reliable performance estimates."
   ]
  },
  {
   "cell_type": "markdown",
   "id": "f9b44813",
   "metadata": {},
   "source": [
    "__Evaluation Metrics__: Provide _mean weighted F1 scores_ and a confusion matrix to evaluate and compare the performance of the classification models.\n",
    "\n",
    "Here is an example code how to compute mean weighted F1 score in k-fold cross-validation setting:"
   ]
  },
  {
   "cell_type": "code",
   "execution_count": null,
   "id": "ac3236b0",
   "metadata": {},
   "outputs": [],
   "source": [
    "f1_scores = []\n",
    "\n",
    "# Perform k-fold stratified cross-validation\n",
    "for train_index, test_index in cv.split(X, y):\n",
    "    X_train, X_test = X[train_index], X[test_index]\n",
    "    y_train, y_test = y[train_index], y[test_index]\n",
    "   \n",
    "    # Necessary code to compute the predictions using your classifier..\n",
    "    #...\n",
    "    # y_pred = ...\n",
    "    \n",
    "    # Compute the weighted-average F1-score for this fold\n",
    "    fold_f1_score = f1_score(y_test, y_pred, average='weighted')\n",
    "    f1_scores.append(fold_f1_score)\n",
    "\n",
    "# Calculate the mean F1-score across all folds\n",
    "mean_weighted_f1_score = np.mean(f1_scores)\n",
    "print(\"Mean weighted-average F1-score across\", k, \"folds:\", mean_weighted_f1_score)"
   ]
  },
  {
   "cell_type": "markdown",
   "id": "c3801574",
   "metadata": {},
   "source": [
    "### Submissions"
   ]
  },
  {
   "cell_type": "markdown",
   "id": "184c3d75",
   "metadata": {},
   "source": [
    "\n",
    "After training your models with the data in _train.csv_, use the given _test.csv_ data for your predictions (predicted 'type' values); save it as csv file, and upload it to the Kaggle competition. Furthermore, you are supposed to upload your coding in Jupyter notebook to the department's submission system.\n",
    "\n",
    "Kaggle competition for logistic regression: https://www.kaggle.com/t/1aad2bcbe8c14b80918ec67ef7041c9b\n",
    "\n",
    "Kaggle competition for support vector machine: https://www.kaggle.com/t/f4f6aee930674ea3a86aada32d861cfa\n",
    "\n",
    "**Due Date**: 30.04.2023\n",
    "\n",
    "**Note**: The late submission rules previously announced from the piazza apply."
   ]
  },
  {
   "cell_type": "markdown",
   "id": "7c504cca",
   "metadata": {},
   "source": [
    "### Your Work"
   ]
  },
  {
   "cell_type": "code",
   "execution_count": null,
   "id": "bfcf33e3",
   "metadata": {},
   "outputs": [],
   "source": [
    "#Include your codes below by including as many cells as necessary to clearly demonstrate your work\n",
    "#Please write your codes in separate sections for data pre-processing, Logistic Regression and SVM models etc."
   ]
  },
  {
   "attachments": {},
   "cell_type": "markdown",
   "id": "150ebb44",
   "metadata": {},
   "source": [
    "#### Import Libraries"
   ]
  },
  {
   "cell_type": "code",
   "execution_count": 1,
   "id": "5578f8a5",
   "metadata": {},
   "outputs": [],
   "source": [
    "import pandas as pd\n",
    "import numpy as np\n",
    "import matplotlib.pyplot as plt\n",
    "\n",
    "from sklearn.base import BaseEstimator\n",
    "from sklearn.model_selection import StratifiedKFold, GridSearchCV\n",
    "from sklearn.linear_model import LogisticRegression\n",
    "from sklearn import svm, metrics"
   ]
  },
  {
   "attachments": {},
   "cell_type": "markdown",
   "id": "92c697e1",
   "metadata": {},
   "source": [
    "#### Data Preprocessing"
   ]
  },
  {
   "attachments": {},
   "cell_type": "markdown",
   "id": "a55883e3",
   "metadata": {},
   "source": [
    "##### Feature Selection:\n",
    "- id, name, period, lived_in, length, named_by, link features removed because of following reasons:\n",
    "    - id column is redundant\n",
    "    - name is unique for each entry, ie. cannot be used for classification\n",
    "    - period, lived_in, length information is not related to type\n",
    "    - named_by, and link information is not related to type\n",
    "    - species column dropped since there is null values that cannot be filled\n",
    "##### Categorical Data Encoding:\n",
    "> Diet encoding:\n",
    "<br />\n",
    "Diet information one hot encoded\n",
    "\n",
    "> Taxonomy Encoding\n",
    "<br />\n",
    "Two different encodings used for taxonomy information and used\n",
    "> 1. Taxonomy information one hot encoded\n",
    "> 2. Unique words in taxonomy column splitted and one hot encoded based on word exists in entry or not\n",
    ">     - 'Dinosauria' feature removed since it exists in every record, and therefore cannot be used for classification\n"
   ]
  },
  {
   "cell_type": "code",
   "execution_count": 2,
   "id": "9b9ad150",
   "metadata": {},
   "outputs": [],
   "source": [
    "def diet_encoder(df: pd.DataFrame) -> None:\n",
    "    \"\"\"Encodes \"diet\" column of given dataframe\n",
    "\n",
    "    Args:\n",
    "        df (pd.DataFrame): dataframe\n",
    "    \"\"\"\n",
    "    for diet in set(df['diet']):\n",
    "        mask = df['diet'] == diet\n",
    "        df[diet] = 0\n",
    "        df.loc[mask, diet] = 1\n",
    "    \n",
    "    mask = df['herbivorous/omnivorous'] == 1\n",
    "    df.loc[mask, 'herbivorous'] = 1\n",
    "    df.loc[mask, 'omnivorous'] = 1\n",
    "    \n",
    "    df.drop(['diet', 'herbivorous/omnivorous'], axis = 1, inplace=True)\n",
    "    \n",
    "def taxonomy_encoder(df: pd.DataFrame) -> None:\n",
    "    \"\"\"Encodes \"taxonomy\" column of given dataframe\n",
    "\n",
    "    Args:\n",
    "        df (pd.DataFrame): dataframe\n",
    "    \"\"\"\n",
    "    taxonomy_set = set()\n",
    "    for i in set(df['taxonomy']):\n",
    "        for j in i.strip().split():\n",
    "            taxonomy_set.add(j)\n",
    "    \n",
    "    for tax in taxonomy_set:\n",
    "        mask = df['taxonomy'].str.contains(tax)\n",
    "        df[tax] = 0\n",
    "        df.loc[mask, tax] = 1\n",
    "    \n",
    "    df.drop(['taxonomy'], axis=1, inplace=True)\n",
    "    df.drop(['Dinosauria'], axis=1, inplace=True)\n"
   ]
  },
  {
   "attachments": {},
   "cell_type": "markdown",
   "id": "2f21fabe",
   "metadata": {},
   "source": [
    "##### Taxonomy One-hot Encoded\n",
    "GridSearchCV used for hyper-parameter search with StratifiedKFold with k = 10"
   ]
  },
  {
   "cell_type": "code",
   "execution_count": 3,
   "id": "fd7f3698",
   "metadata": {},
   "outputs": [],
   "source": [
    "df_train = pd.read_csv('train.csv')\n",
    "df_test = pd.read_csv('test.csv')\n",
    "train_n = len(df_train)\n",
    "df_test['type'] = None\n",
    "\n",
    "df = pd.concat([df_train, df_test])\n",
    "df.drop([\"id\", \"name\", \"period\", \"lived_in\", \"length\", \"named_by\", \"species\", \"link\"], axis=1, inplace=True)\n",
    "\n",
    "diet_encoder(df)\n",
    "df = pd.get_dummies(df, columns=[\"taxonomy\"])\n",
    "\n",
    "cols = df.columns.tolist()\n",
    "cols = cols[1:] + cols[:1]\n",
    "df = df[cols]\n",
    "\n",
    "df_train = df[:train_n]\n",
    "df_test = df[train_n:]\n",
    "\n",
    "df_train = df_train.astype({'type' : 'category'})\n",
    "\n",
    "x, y = df_train[cols[:-1]].values, df_train[cols[-1:]].values.ravel()"
   ]
  },
  {
   "cell_type": "code",
   "execution_count": 4,
   "id": "ec72763c",
   "metadata": {},
   "outputs": [
    {
     "name": "stdout",
     "output_type": "stream",
     "text": [
      "Logistic Regression Best parameters\n",
      " {'C': 1000.0, 'max_iter': 100, 'multi_class': 'ovr', 'penalty': 'l1', 'solver': 'liblinear'}\n",
      "Accuracy : 0.8536666666666667\n",
      "SVM Best parameters\n",
      " {'C': 100.0, 'decision_function_shape': 'ovo', 'degree': 3, 'kernel': 'sigmoid'}\n",
      "Accuracy : 0.8376666666666667\n"
     ]
    }
   ],
   "source": [
    "grid = {\"C\": np.logspace(-3, 3, 7), \"penalty\": [\"l1\", \"l2\"], 'multi_class': ['ovr'], 'solver': ['liblinear'], 'max_iter' : [100, 250, 500]}\n",
    "logistic_regression = LogisticRegression()\n",
    "grid_search = GridSearchCV(logistic_regression, grid, cv=10) # Note that cv=10 means that StratifiedKFold used with k = 10\n",
    "grid_search.fit(x, y)\n",
    "print(\"Logistic Regression Best parameters\\n\",grid_search.best_params_)\n",
    "print(\"Accuracy :\",grid_search.best_score_)\n",
    "\n",
    "grid = {'C': np.logspace(-3, 3, 7),\n",
    "        'kernel': ['linear', 'poly', 'rbf', 'sigmoid'], 'degree': [3, 5, 7], 'decision_function_shape': ['ovo', 'ovr']}\n",
    "support_vector_machine = svm.SVC()\n",
    "grid_search = GridSearchCV(support_vector_machine, grid, cv=10) # Note that cv=10 means that StratifiedKFold used with k = 10\n",
    "grid_search.fit(x, y)\n",
    "print(\"SVM Best parameters\\n\",grid_search.best_params_)\n",
    "print(\"Accuracy :\",grid_search.best_score_)"
   ]
  },
  {
   "cell_type": "code",
   "execution_count": 5,
   "id": "6a85aa9f",
   "metadata": {},
   "outputs": [],
   "source": [
    "def get_results(predictor: BaseEstimator, x, y):\n",
    "    f1_scores = []\n",
    "    conf_matrix = []\n",
    "\n",
    "    skf = StratifiedKFold(10)\n",
    "    for train_index, test_index in skf.split(x, y):\n",
    "        x_train, y_train = x[train_index], y[train_index]\n",
    "        x_test, y_test = x[test_index], y[test_index]\n",
    "        predictor.fit(x_train, y_train)\n",
    "\n",
    "        predictions = predictor.predict(x_test)\n",
    "        cm = metrics.confusion_matrix(y_test, predictions)\n",
    "        score = predictor.score(x_test, y_test)\n",
    "        f1_score = metrics.f1_score(y_test, predictions, average='weighted')\n",
    "\n",
    "        conf_matrix.append(cm)\n",
    "        f1_scores.append(f1_score)\n",
    "\n",
    "    conf_matrix = np.sum(conf_matrix, axis=0)\n",
    "    return np.mean(f1_scores), conf_matrix / np.sum(conf_matrix, axis=1)"
   ]
  },
  {
   "cell_type": "code",
   "execution_count": 6,
   "id": "42629a4d",
   "metadata": {},
   "outputs": [
    {
     "name": "stdout",
     "output_type": "stream",
     "text": [
      "Logistic Regression f1-score:\t0.8451848087098087\n",
      "Support Vector Machine f1-score:\t0.832181918081918\n"
     ]
    },
    {
     "data": {
      "image/png": "[encoded data removed]",
      "text/plain": [
       "<Figure size 720x360 with 2 Axes>"
      ]
     },
     "metadata": {
      "needs_background": "light"
     },
     "output_type": "display_data"
    }
   ],
   "source": [
    "predictor = LogisticRegression(C = 1000.0, max_iter = 100, multi_class = 'ovr', penalty = 'l1', solver = 'liblinear')\n",
    "log_f1_score, log_conf_matrix = get_results(predictor, x, y)\n",
    "print(\"Logistic Regression f1-score:\\t\" + str(log_f1_score))\n",
    "\n",
    "predictor = svm.SVC(C=100.0, decision_function_shape='ovo',\n",
    "                    degree=3, kernel='sigmoid')\n",
    "svm_f1_score, svm_conf_matrix = get_results(predictor, x, y)\n",
    "print(\"Support Vector Machine f1-score:\\t\" + str(svm_f1_score))\n",
    "\n",
    "fig, ax = plt.subplots(1, 2, figsize=(10, 5), sharey='row')\n",
    "disp = metrics.ConfusionMatrixDisplay(log_conf_matrix)\n",
    "disp.plot(ax = ax[0])\n",
    "disp.ax_.set_title(\"Logistic Regression\")\n",
    "disp.im_.colorbar.remove()\n",
    "disp = metrics.ConfusionMatrixDisplay(svm_conf_matrix)\n",
    "disp.plot(ax = ax[1])\n",
    "disp.ax_.set_title(\"SVM\")\n",
    "disp.im_.colorbar.remove()\n",
    "\n",
    "plt.show()"
   ]
  },
  {
   "attachments": {},
   "cell_type": "markdown",
   "id": "582f992d",
   "metadata": {},
   "source": [
    "##### Taxonomy Custom Encoded\n",
    "GridSearchCV used for hyper-parameter search with StratifiedKFold with k = 10"
   ]
  },
  {
   "cell_type": "code",
   "execution_count": 7,
   "id": "95054b90",
   "metadata": {},
   "outputs": [
    {
     "name": "stderr",
     "output_type": "stream",
     "text": [
      "C:\\Users\\usr\\AppData\\Local\\Temp\\ipykernel_11668\\1314638898.py:31: PerformanceWarning: DataFrame is highly fragmented.  This is usually the result of calling `frame.insert` many times, which has poor performance.  Consider joining all columns at once using pd.concat(axis=1) instead.  To get a de-fragmented frame, use `newframe = frame.copy()`\n",
      "  df[tax] = 0\n"
     ]
    }
   ],
   "source": [
    "df_train = pd.read_csv('train.csv')\n",
    "df_test = pd.read_csv('test.csv')\n",
    "train_n = len(df_train)\n",
    "df_test['type'] = None\n",
    "\n",
    "df = pd.concat([df_train, df_test])\n",
    "df.drop([\"id\", \"name\", \"period\", \"lived_in\", \"length\",\n",
    "        \"named_by\", \"species\", \"link\"], axis=1, inplace=True)\n",
    "\n",
    "diet_encoder(df)\n",
    "taxonomy_encoder(df)\n",
    "\n",
    "cols = df.columns.tolist()\n",
    "cols = cols[1:] + cols[:1]\n",
    "df = df[cols]\n",
    "\n",
    "df_train = df[:train_n]\n",
    "df_test = df[train_n:]\n",
    "\n",
    "df_train = df_train.astype({'type': 'category'})\n",
    "\n",
    "x, y = df_train[cols[:-1]].values, df_train[cols[-1:]].values.ravel()"
   ]
  },
  {
   "cell_type": "code",
   "execution_count": 8,
   "id": "c2239de1",
   "metadata": {},
   "outputs": [
    {
     "name": "stdout",
     "output_type": "stream",
     "text": [
      "Logistic Regression Best parameters\n",
      " {'C': 10.0, 'max_iter': 100, 'multi_class': 'ovr', 'penalty': 'l1', 'solver': 'liblinear'}\n",
      "Accuracy : 0.9151666666666667\n",
      "SVM Best parameters\n",
      " {'C': 100.0, 'decision_function_shape': 'ovo', 'degree': 3, 'kernel': 'sigmoid'}\n",
      "Accuracy : 0.9111666666666668\n"
     ]
    }
   ],
   "source": [
    "grid = {\"C\": np.logspace(-3, 3, 7), \"penalty\": [\"l1\", \"l2\"], 'multi_class': ['ovr'], 'solver': ['liblinear'], 'max_iter' : [100, 250, 500]}\n",
    "logistic_regression = LogisticRegression()\n",
    "grid_search = GridSearchCV(logistic_regression, grid, cv=10) # Note that cv=10 means that StratifiedKFold used with k = 10\n",
    "grid_search.fit(x, y)\n",
    "print(\"Logistic Regression Best parameters\\n\",grid_search.best_params_)\n",
    "print(\"Accuracy :\",grid_search.best_score_)\n",
    "\n",
    "grid = {'C': np.logspace(-3, 3, 7),\n",
    "        'kernel': ['linear', 'poly', 'rbf', 'sigmoid'], 'degree': [3, 5, 7], 'decision_function_shape': ['ovo', 'ovr']}\n",
    "support_vector_machine = svm.SVC()\n",
    "grid_search = GridSearchCV(support_vector_machine, grid, cv=10) # Note that cv=10 means that StratifiedKFold used with k = 10\n",
    "grid_search.fit(x, y)\n",
    "print(\"SVM Best parameters\\n\",grid_search.best_params_)\n",
    "print(\"Accuracy :\",grid_search.best_score_)"
   ]
  },
  {
   "cell_type": "code",
   "execution_count": 12,
   "id": "65f08c94",
   "metadata": {},
   "outputs": [
    {
     "name": "stdout",
     "output_type": "stream",
     "text": [
      "Logistic Regression f1-score:\t0.9108683816183817\n",
      "Support Vector Machine f1-score:\t0.9084951973951976\n"
     ]
    },
    {
     "data": {
      "image/png": "[encoded data removed]",
      "text/plain": [
       "<Figure size 720x360 with 2 Axes>"
      ]
     },
     "metadata": {
      "needs_background": "light"
     },
     "output_type": "display_data"
    }
   ],
   "source": [
    "predictor = LogisticRegression(\n",
    "    C=10.0, max_iter=100, multi_class='ovr', penalty='l1', solver='liblinear')\n",
    "log_f1_score, log_conf_matrix = get_results(predictor, x, y)\n",
    "print(\"Logistic Regression f1-score:\\t\" + str(log_f1_score))\n",
    "\n",
    "predictor = svm.SVC(C=100.0, decision_function_shape='ovo',\n",
    "                    degree=3, kernel='sigmoid')\n",
    "svm_f1_score, svm_conf_matrix = get_results(predictor, x, y)\n",
    "print(\"Support Vector Machine f1-score:\\t\" + str(svm_f1_score))\n",
    "\n",
    "fig, ax = plt.subplots(1, 2, figsize=(10, 5), sharey='row')\n",
    "disp = metrics.ConfusionMatrixDisplay(log_conf_matrix)\n",
    "disp.plot(ax=ax[0])\n",
    "disp.ax_.set_title(\"Logistic Regression\")\n",
    "disp.im_.colorbar.remove()\n",
    "disp = metrics.ConfusionMatrixDisplay(svm_conf_matrix)\n",
    "disp.plot(ax=ax[1])\n",
    "disp.ax_.set_title(\"SVM\")\n",
    "disp.im_.colorbar.remove()\n",
    "\n",
    "plt.show()"
   ]
  },
  {
   "attachments": {},
   "cell_type": "markdown",
   "id": "27cadb8a",
   "metadata": {},
   "source": [
    "As one can see from test results, using custom taxonomy encoding improves model performance.\n",
    "\n",
    "Since we are using gridsearch to find best model, and comparing best ones between each other, SVM and Logistic Regression has similar performance where Logistic regression has slightly better results for 'small theropod' (category number 5)."
   ]
  },
  {
   "cell_type": "code",
   "execution_count": 26,
   "id": "c8089a97",
   "metadata": {},
   "outputs": [
    {
     "name": "stdout",
     "output_type": "stream",
     "text": [
      "Logistic Regression f1-score:\t0.9106906038406037\n"
     ]
    }
   ],
   "source": [
    "predictor = LogisticRegression(\n",
    "    C=10.0, max_iter=100, multi_class='ovr', penalty='l1', solver='liblinear')\n",
    "log_f1_score, log_conf_matrix = get_results(predictor, x, y)\n",
    "print(\"Logistic Regression f1-score:\\t\" + str(log_f1_score))\n",
    "\n",
    "x_test = df_test[cols[:-1]].values\n",
    "pred = predictor.predict(x_test)\n",
    "\n",
    "test = pd.DataFrame(pred)\n",
    "test.columns = ['type']\n",
    "test.to_csv('Logistic_Regression_predictions.csv')\n"
   ]
  },
  {
   "cell_type": "code",
   "execution_count": null,
   "id": "6c180e35",
   "metadata": {},
   "outputs": [],
   "source": []
  }
 ],
 "metadata": {
  "kernelspec": {
   "display_name": "Python 3",
   "language": "python",
   "name": "python3"
  },
  "language_info": {
   "codemirror_mode": {
    "name": "ipython",
    "version": 3
   },
   "file_extension": ".py",
   "mimetype": "text/x-python",
   "name": "python",
   "nbconvert_exporter": "python",
   "pygments_lexer": "ipython3",
   "version": "3.9.6"
  }
 },
 "nbformat": 4,
 "nbformat_minor": 5
}
